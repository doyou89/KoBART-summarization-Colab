{
  "cells": [
    {
      "cell_type": "code",
      "execution_count": null,
      "metadata": {
        "id": "pjeNKohFkg3N"
      },
      "outputs": [],
      "source": [
        "# Install KoBART\n",
        "%pip install git+https://github.com/doyou89/KoBART#egg=kobart"
      ]
    },
    {
      "cell_type": "code",
      "execution_count": null,
      "metadata": {
        "colab": {
          "base_uri": "https://localhost:8080/"
        },
        "id": "SOX54HGvWcR5",
        "outputId": "30919d70-48ea-447a-f634-e1c2ed25a37d"
      },
      "outputs": [],
      "source": [
        "!git clone https://github.com/seujung/KoBART-summarization.git"
      ]
    },
    {
      "cell_type": "code",
      "execution_count": null,
      "metadata": {
        "id": "tBbKDC-CV5AI"
      },
      "outputs": [],
      "source": [
        "%cd /content/KoBART-summarization\n",
        "%pip install -r requirements.txt"
      ]
    },
    {
      "cell_type": "code",
      "execution_count": null,
      "metadata": {
        "colab": {
          "base_uri": "https://localhost:8080/"
        },
        "id": "FGwxG8ddiF62",
        "outputId": "262b25f9-e63d-48f4-a423-abaf19fc0301"
      },
      "outputs": [],
      "source": [
        "%pip install torch==1.7.1+cu101 torchvision==0.8.2+cu101 torchtext==0.8.1 -f https://download.pytorch.org/whl/torch_stable.html"
      ]
    },
    {
      "cell_type": "code",
      "execution_count": null,
      "metadata": {
        "colab": {
          "base_uri": "https://localhost:8080/"
        },
        "id": "kyUblGOOWVKv",
        "outputId": "36f71f2b-c450-40a5-ded6-5148d157a9d0"
      },
      "outputs": [],
      "source": [
        "!tar -zxvf /content/KoBART-summarization/data/train.tar.gz\n",
        "!tar -zxvf /content/KoBART-summarization/data/test.tar.gz\n",
        "!mv train.tsv /content/KoBART-summarization/data\n",
        "!mv test.tsv /content/KoBART-summarization/data"
      ]
    },
    {
      "cell_type": "code",
      "execution_count": null,
      "metadata": {
        "colab": {
          "base_uri": "https://localhost:8080/"
        },
        "id": "B4pG11OdWzaz",
        "outputId": "7570fb6b-56f6-46fb-9861-68fb57c079f8"
      },
      "outputs": [],
      "source": [
        "%cd /content/KoBART-summarization\n",
        "!python train.py  --gradient_clip_val 1.0 --max_epochs 3 --default_root_dir /content/drive/MyDrive/Colab_Notebooks/NLP/BART --gpus 1 \\\n",
        "--batch_size 4 --num_workers 1 --checkpoint_path /content/drive/MyDrive/Colab_Notebooks/NLP/BART \\\n",
        "--train_file /content/KoBART-summarization/data/train.tsv \\\n",
        "--test_file /content/KoBART-summarization/data/test.tsv"
      ]
    },
    {
      "cell_type": "code",
      "execution_count": null,
      "metadata": {
        "id": "OqUSDqHEhD6-"
      },
      "outputs": [],
      "source": [
        "!python get_model_binary.py --hparams set-your-hparams --model_binary set-your-check-point"
      ]
    },
    {
      "cell_type": "code",
      "execution_count": null,
      "metadata": {
        "id": "O3-0RfhkT7lS"
      },
      "outputs": [],
      "source": [
        "!streamlit run infer.py"
      ]
    }
  ],
  "metadata": {
    "accelerator": "GPU",
    "colab": {
      "collapsed_sections": [],
      "machine_shape": "hm",
      "name": "KoBART",
      "provenance": []
    },
    "kernelspec": {
      "display_name": "Python 3",
      "name": "python3"
    },
    "language_info": {
      "name": "python",
      "version": "3.8.12"
    }
  },
  "nbformat": 4,
  "nbformat_minor": 0
}
